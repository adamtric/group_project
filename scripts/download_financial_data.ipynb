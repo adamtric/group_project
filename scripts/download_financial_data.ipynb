{
 "cells": [
  {
   "cell_type": "code",
   "execution_count": 16,
   "id": "ddb84d7e",
   "metadata": {},
   "outputs": [],
   "source": [
    "import pandas as pd\n",
    "\n",
    "import yahoo_fin.stock_info as yf"
   ]
  },
  {
   "cell_type": "code",
   "execution_count": 17,
   "id": "3d234fd4",
   "metadata": {},
   "outputs": [],
   "source": [
    "df = pd.read_csv('data/employee_data/snp_500_companies_employees.csv', encoding='windows-1252')"
   ]
  },
  {
   "cell_type": "code",
   "execution_count": 18,
   "id": "fa233459",
   "metadata": {},
   "outputs": [
    {
     "data": {
      "text/plain": [
       "498"
      ]
     },
     "execution_count": 18,
     "metadata": {},
     "output_type": "execute_result"
    }
   ],
   "source": [
    "tickers = df[\"Ticker\"]\n",
    "\n",
    "tickers.count()"
   ]
  },
  {
   "cell_type": "code",
   "execution_count": 21,
   "id": "7f4816c3",
   "metadata": {},
   "outputs": [
    {
     "name": "stdout",
     "output_type": "stream",
     "text": [
      "Could not get df for GPC\n",
      "Could not get df for WLTW\n",
      "Could not get df for PWR\n",
      "Could not get df for CERN\n",
      "Could not get df for VIAC\n",
      "Could not get df for BLL\n",
      "Could not get df for A\n",
      "Could not get df for INFO\n",
      "Could not get df for FDS\n",
      "Could not get df for DISCA\n",
      "Could not get df for DISCK\n",
      "Could not get df for PBCT\n",
      "Could not get df for XLNX\n",
      "Could not get df for BF.B\n",
      "Could not get df for UDR\n"
     ]
    }
   ],
   "source": [
    "for ticker in tickers:\n",
    "    \n",
    "    try:\n",
    "\n",
    "        df = yf.get_income_statement(ticker)\n",
    "    \n",
    "        df.to_csv(f'data/income_statements/{ticker}_income_statement.csv')\n",
    "    \n",
    "    except:\n",
    "        \n",
    "        print(f\"Could not get df for {ticker}\")"
   ]
  },
  {
   "cell_type": "code",
   "execution_count": 25,
   "id": "7c78312a",
   "metadata": {},
   "outputs": [],
   "source": []
  },
  {
   "cell_type": "code",
   "execution_count": null,
   "id": "6fab8b74",
   "metadata": {},
   "outputs": [],
   "source": []
  },
  {
   "cell_type": "code",
   "execution_count": null,
   "id": "e8a9a1e7",
   "metadata": {},
   "outputs": [],
   "source": []
  }
 ],
 "metadata": {
  "kernelspec": {
   "display_name": "PythonData",
   "language": "python",
   "name": "pythondata"
  },
  "language_info": {
   "codemirror_mode": {
    "name": "ipython",
    "version": 3
   },
   "file_extension": ".py",
   "mimetype": "text/x-python",
   "name": "python",
   "nbconvert_exporter": "python",
   "pygments_lexer": "ipython3",
   "version": "3.7.11"
  }
 },
 "nbformat": 4,
 "nbformat_minor": 5
}
